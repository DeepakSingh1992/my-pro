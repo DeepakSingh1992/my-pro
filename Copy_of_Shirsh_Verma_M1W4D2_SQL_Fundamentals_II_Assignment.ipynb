{
  "nbformat": 4,
  "nbformat_minor": 0,
  "metadata": {
    "colab": {
      "provenance": [],
      "collapsed_sections": [],
      "include_colab_link": true
    },
    "kernelspec": {
      "name": "python3",
      "display_name": "Python 3"
    }
  },
  "cells": [
    {
      "cell_type": "markdown",
      "metadata": {
        "id": "view-in-github",
        "colab_type": "text"
      },
      "source": [
        "<a href=\"https://colab.research.google.com/github/DeepakSingh1992/my-pro/blob/master/Copy_of_Shirsh_Verma_M1W4D2_SQL_Fundamentals_II_Assignment.ipynb\" target=\"_parent\"><img src=\"https://colab.research.google.com/assets/colab-badge.svg\" alt=\"Open In Colab\"/></a>"
      ]
    },
    {
      "cell_type": "markdown",
      "metadata": {
        "id": "LSx52toYvkE0"
      },
      "source": [
        "# <b> Question 1 : Return the customer IDs of customers who have spent at least $110 with the staff member who has an ID of 2.\n"
      ]
    },
    {
      "cell_type": "markdown",
      "metadata": {
        "id": "D8KyUb21DO7Y"
      },
      "source": [
        "#SELECT customer_id, SUM(amount) FROM payment\n",
        "#WHERE staff_id =2\n",
        "#GROUP BY customer_id,staff_id\n",
        "#HAVING SUM(amount) >= 110\n",
        "#ORDER BY customer_id\n",
        "\n",
        "\n",
        "#OUTPUT -->> \n",
        "\n",
        "#*   148\n",
        "#*   187\n"
      ]
    },
    {
      "cell_type": "markdown",
      "metadata": {
        "id": "grhpLeadvkHP"
      },
      "source": [
        "# <b> Question 2 :  How many films begin with the letter J?\n"
      ]
    },
    {
      "cell_type": "markdown",
      "metadata": {
        "id": "jtOSQHgU7XLb"
      },
      "source": [
        "\n",
        "\n",
        "#   SELECT COUNT(*) FROM film \n",
        "#   WHERE title ILIKE 'J%'\n",
        "#   OUTPUT -->> 20\n",
        "\n"
      ]
    },
    {
      "cell_type": "markdown",
      "metadata": {
        "id": "7ADgnW_VvkJg"
      },
      "source": [
        "# <b> Question 3 : What customer has the highest customer ID number whose name starts with an 'E' and has an address ID lower than 500?"
      ]
    },
    {
      "cell_type": "markdown",
      "metadata": {
        "id": "QhYKlLbD-DjG"
      },
      "source": [
        "#SELECT customer_id FROM customer\n",
        "#WHERE first_name ILIKE 'E%'\n",
        "#GROUP BY customer_id\n",
        "#HAVING address_id < 500\n",
        "#ORDER BY customer_id DESC\n",
        "\n",
        "#OUTPUT --> 434\n"
      ]
    },
    {
      "cell_type": "code",
      "metadata": {
        "id": "NGneZu8nxXN9"
      },
      "source": [],
      "execution_count": null,
      "outputs": []
    }
  ]
}